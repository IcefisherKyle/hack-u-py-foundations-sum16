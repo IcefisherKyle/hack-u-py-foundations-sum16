{
 "cells": [
  {
   "cell_type": "markdown",
   "metadata": {},
   "source": [
    "# Lesson 1 - Motivations/Basic Data Types\n",
    "\n",
    "Why Python? Motivations? What are you looking to get out of this class?\n",
    "\n",
    "![](https://imgs.xkcd.com/comics/python.png \"XKCD\")\n",
    "\n"
   ]
  },
  {
   "cell_type": "markdown",
   "metadata": {},
   "source": [
    "### “Python is the second best at everything”\n",
    "\n",
    "* Build websites - Django \n",
    "https://www.djangoproject.com/start/overview/\n",
    "* Make Games - PyGame http://www.pygame.org/hifi.html\n",
    "* Popular in Sciences - scipy, numpy, matplotlib http://matplotlib.org/gallery.html\n",
    "* Creative coding - http://www.meetup.com/PDX-Creative-Coders/\n",
    "* Data Science - http://scikit-learn.org/\n"
   ]
  },
  {
   "cell_type": "markdown",
   "metadata": {},
   "source": [
    "### Why Python?\n",
    "1. Friendly and helpful community\n",
    "2. Human readability\n",
    "3. General accessibility to beginners\n",
    "4. It's been around a long time, so there's many many resources to help you get started\n",
    "5. It's about second best at everything. If you're trying to do one specific thing, it's probably better to learn another language. But since most software does more than one thing, python is becoming incredibly popular.\n",
    "6. It's gaining popularity\n",
    "\n",
    "![](images/LanguageTrends.png)\n",
    "\n",
    "source: http://www.indeed.com/jobtrends/q-Java-q-PHP-q-Perl-q-.Net-q-Python-q-JavaScript.html?relative=1"
   ]
  },
  {
   "cell_type": "markdown",
   "metadata": {},
   "source": [
    "### Whitespace\n",
    "![](https://i.ytimg.com/vi/ppspz2ZiBaY/maxresdefault.jpg)\n",
    "\n",
    "* Whitespace is used to denote \"blocks\"\n",
    "* In other languages curly brackets ({ and }) are common. \n",
    "* **def, if, elif, else, try, catch, finally, with, for, while, and class** all start blocks. \n",
    "\n",
    "When you indent, it becomes a child of the previous line. In addition to the indentation, the parent also has a colon following it:\n",
    "\n",
    "```\n",
    "im_a_parent:\n",
    "    im_a_child:\n",
    "        im_a_grandchild\n",
    "    im_another_child:\n",
    "        im_another_grand_child\n",
    "```\n",
    "\n",
    "\n",
    "To end a block, you simple outdent, and you will have siblings. In the above im_a_child and im_another_child are siblings.\n",
    "\n",
    "http://stackoverflow.com/questions/13884499/what-is-python-whitespace-and-how-does-it-work\n"
   ]
  },
  {
   "cell_type": "markdown",
   "metadata": {},
   "source": [
    "This Code...\n",
    "```HTML\n",
    "<!DOCTYPE html>\n",
    "<html>\n",
    "    <body>\n",
    "        <h1>My First Heading</h1>\n",
    "        <p>My first paragraph.</p>\n",
    "    </body>\n",
    "</html>\n",
    "```\n",
    "can also be writen...\n",
    "```HTML\n",
    "<!DOCTYPE html>\n",
    "<html>\n",
    "<body>\n",
    "<h1>My First Heading</h1>\n",
    "<p>My first paragraph.</p>\n",
    "</body>\n",
    "</html>\n",
    "```\n",
    "\n",
    "This Code\n",
    "\n",
    "```python\n",
    "student_list = ['student','name']\n",
    "def hello(student_list):\n",
    "    for name in student_list:\n",
    "        if name[0] = 'R'\n",
    "            print name + ' is the instructor'\n",
    "        else:\n",
    "            print('hello '+name+'!') \n",
    "```\n",
    "cannot be written\n",
    "```python\n",
    "student_list = ['student','name']\n",
    "def hello(student_list):\n",
    "for name in student_list:\n",
    "if name[0] = 'R'\n",
    "print name + ' is the instructor'\n",
    "else:\n",
    "print('hello '+name+'!') \n",
    "```\n",
    "This isn't 100% critical to understand now. I bring it up to show you that python is meant to be human readable. It generally only troublesome to those learning python as a second language. What you trade for with less freedom of spacing, you gain with readability and not having to keep track of/close brakets.\n",
    "    "
   ]
  },
  {
   "cell_type": "markdown",
   "metadata": {},
   "source": [
    "## Basic Data Types\n",
    "\n",
    "### Numbers"
   ]
  },
  {
   "cell_type": "code",
   "execution_count": 45,
   "metadata": {
    "collapsed": false
   },
   "outputs": [
    {
     "data": {
      "text/plain": [
       "2"
      ]
     },
     "execution_count": 45,
     "metadata": {},
     "output_type": "execute_result"
    }
   ],
   "source": [
    "# Addition\n",
    "1 + 1"
   ]
  },
  {
   "cell_type": "code",
   "execution_count": 46,
   "metadata": {
    "collapsed": false
   },
   "outputs": [
    {
     "data": {
      "text/plain": [
       "3.75"
      ]
     },
     "execution_count": 46,
     "metadata": {},
     "output_type": "execute_result"
    }
   ],
   "source": [
    "# \"Float\" addition\n",
    "1.5 + 2.25"
   ]
  },
  {
   "cell_type": "code",
   "execution_count": 47,
   "metadata": {
    "collapsed": false
   },
   "outputs": [
    {
     "data": {
      "text/plain": [
       "2"
      ]
     },
     "execution_count": 47,
     "metadata": {},
     "output_type": "execute_result"
    }
   ],
   "source": [
    "# Subtraction\n",
    "4 - 2"
   ]
  },
  {
   "cell_type": "code",
   "execution_count": 48,
   "metadata": {
    "collapsed": false
   },
   "outputs": [
    {
     "data": {
      "text/plain": [
       "-1"
      ]
     },
     "execution_count": 48,
     "metadata": {},
     "output_type": "execute_result"
    }
   ],
   "source": [
    "# Negative Numbers\n",
    "9 - 10"
   ]
  },
  {
   "cell_type": "code",
   "execution_count": 49,
   "metadata": {
    "collapsed": false
   },
   "outputs": [
    {
     "data": {
      "text/plain": [
       "27"
      ]
     },
     "execution_count": 49,
     "metadata": {},
     "output_type": "execute_result"
    }
   ],
   "source": [
    "# Multiplication\n",
    "3*9"
   ]
  },
  {
   "cell_type": "code",
   "execution_count": 50,
   "metadata": {
    "collapsed": false
   },
   "outputs": [
    {
     "data": {
      "text/plain": [
       "1.6666666666666667"
      ]
     },
     "execution_count": 50,
     "metadata": {},
     "output_type": "execute_result"
    }
   ],
   "source": [
    "# Division\n",
    "5/3"
   ]
  },
  {
   "cell_type": "markdown",
   "metadata": {},
   "source": [
    "**Woops! What happened?**\n",
    "![](images/3xPms.gif)\n",
    "\n",
    "When we use the / sympbol, Python 2 truncates (aka \"cuts off\") the decimal points of our number, which is called \"Classic\" division. However, Python 3 uses \"True\" division, which you and I are more familiar with.\n",
    "\n",
    "So why does Python 2 do this?\n",
    "1. So that it doesn't have to convert types\n",
    "2. It inherited that functionality from C, the language Python is written in\n",
    "\n",
    "So what can we do about it?"
   ]
  },
  {
   "cell_type": "code",
   "execution_count": 51,
   "metadata": {
    "collapsed": false
   },
   "outputs": [
    {
     "data": {
      "text/plain": [
       "1.6666666666666667"
      ]
     },
     "execution_count": 51,
     "metadata": {},
     "output_type": "execute_result"
    }
   ],
   "source": [
    "# Make one of the decimals a float\n",
    "5.0/3"
   ]
  },
  {
   "cell_type": "code",
   "execution_count": 52,
   "metadata": {
    "collapsed": false
   },
   "outputs": [
    {
     "data": {
      "text/plain": [
       "1.6666666666666667"
      ]
     },
     "execution_count": 52,
     "metadata": {},
     "output_type": "execute_result"
    }
   ],
   "source": [
    "# Either number works\n",
    "5/3.0"
   ]
  },
  {
   "cell_type": "markdown",
   "metadata": {},
   "source": [
    "We can also tell python to convert our answer to a float using the float() function."
   ]
  },
  {
   "cell_type": "code",
   "execution_count": 53,
   "metadata": {
    "collapsed": false
   },
   "outputs": [
    {
     "data": {
      "text/plain": [
       "1.6666666666666667"
      ]
     },
     "execution_count": 53,
     "metadata": {},
     "output_type": "execute_result"
    }
   ],
   "source": [
    "# Use the float() function to convert intergers into floats\n",
    "float(5)/3"
   ]
  },
  {
   "cell_type": "code",
   "execution_count": 54,
   "metadata": {
    "collapsed": false
   },
   "outputs": [
    {
     "data": {
      "text/plain": [
       "1.6666666666666667"
      ]
     },
     "execution_count": 54,
     "metadata": {},
     "output_type": "execute_result"
    }
   ],
   "source": [
    "# Don't make this mistake\n",
    "float(5/3)"
   ]
  },
  {
   "cell_type": "markdown",
   "metadata": {},
   "source": [
    "float() is a function, which we haven't gone over yet, so don't worry if it looks confusing. Consider it a preview :)\n",
    "\n",
    "Another preview that we'll give you is importing modules. This one is called **future**. It allows us to import Python 3 functions into Python 2 code. We'll go over imports in more detail later"
   ]
  },
  {
   "cell_type": "code",
   "execution_count": 55,
   "metadata": {
    "collapsed": false
   },
   "outputs": [
    {
     "data": {
      "text/plain": [
       "1.6666666666666667"
      ]
     },
     "execution_count": 55,
     "metadata": {},
     "output_type": "execute_result"
    }
   ],
   "source": [
    "from __future__ import division\n",
    "5/3"
   ]
  },
  {
   "cell_type": "markdown",
   "metadata": {},
   "source": [
    "## More Math!"
   ]
  },
  {
   "cell_type": "code",
   "execution_count": 56,
   "metadata": {
    "collapsed": false
   },
   "outputs": [
    {
     "data": {
      "text/plain": [
       "9"
      ]
     },
     "execution_count": 56,
     "metadata": {},
     "output_type": "execute_result"
    }
   ],
   "source": [
    "# Powers\n",
    "3 ** 2"
   ]
  },
  {
   "cell_type": "code",
   "execution_count": 57,
   "metadata": {
    "collapsed": false
   },
   "outputs": [
    {
     "data": {
      "text/plain": [
       "3.0"
      ]
     },
     "execution_count": 57,
     "metadata": {},
     "output_type": "execute_result"
    }
   ],
   "source": [
    "# You can do roots too!\n",
    "9 ** 0.5"
   ]
  },
  {
   "cell_type": "code",
   "execution_count": 58,
   "metadata": {
    "collapsed": false
   },
   "outputs": [
    {
     "data": {
      "text/plain": [
       "-5"
      ]
     },
     "execution_count": 58,
     "metadata": {},
     "output_type": "execute_result"
    }
   ],
   "source": [
    "# Order of Operations is the same as it was in Algebra Class (PEMDAS)\n",
    "# Parenthases, Exponents, Multiplication/Division, Addition/Subtraction\n",
    "\n",
    "1 + 2 * (3 - 6)"
   ]
  },
  {
   "cell_type": "markdown",
   "metadata": {},
   "source": [
    "### Variable Assignments\n",
    "Now that we've played a bit with numbers. Lets try to assign values to variables.\n",
    "\n",
    "A single equals sign assigns variables. "
   ]
  },
  {
   "cell_type": "code",
   "execution_count": 59,
   "metadata": {
    "collapsed": true
   },
   "outputs": [],
   "source": [
    "# Let's assign a variable \"n\" to the number 3.\n",
    "n = 3"
   ]
  },
  {
   "cell_type": "code",
   "execution_count": 60,
   "metadata": {
    "collapsed": false
   },
   "outputs": [
    {
     "data": {
      "text/plain": [
       "3"
      ]
     },
     "execution_count": 60,
     "metadata": {},
     "output_type": "execute_result"
    }
   ],
   "source": [
    "n"
   ]
  },
  {
   "cell_type": "code",
   "execution_count": 61,
   "metadata": {
    "collapsed": false
   },
   "outputs": [
    {
     "data": {
      "text/plain": [
       "6"
      ]
     },
     "execution_count": 61,
     "metadata": {},
     "output_type": "execute_result"
    }
   ],
   "source": [
    "n + n"
   ]
  },
  {
   "cell_type": "code",
   "execution_count": 62,
   "metadata": {
    "collapsed": false
   },
   "outputs": [
    {
     "data": {
      "text/plain": [
       "27"
      ]
     },
     "execution_count": 62,
     "metadata": {},
     "output_type": "execute_result"
    }
   ],
   "source": [
    "n ** n"
   ]
  },
  {
   "cell_type": "markdown",
   "metadata": {},
   "source": [
    "5*n"
   ]
  },
  {
   "cell_type": "markdown",
   "metadata": {},
   "source": [
    "Python treats n like it is a 3. But, we can reassign the value of our variable!"
   ]
  },
  {
   "cell_type": "code",
   "execution_count": 63,
   "metadata": {
    "collapsed": true
   },
   "outputs": [],
   "source": [
    "# Reassignment\n",
    "n = 7"
   ]
  },
  {
   "cell_type": "code",
   "execution_count": 64,
   "metadata": {
    "collapsed": false
   },
   "outputs": [
    {
     "data": {
      "text/plain": [
       "7"
      ]
     },
     "execution_count": 64,
     "metadata": {},
     "output_type": "execute_result"
    }
   ],
   "source": [
    "# Check\n",
    "n"
   ]
  },
  {
   "cell_type": "markdown",
   "metadata": {},
   "source": [
    "Python lets you write over names you've used before. You can even use the variable itself when we're reassigning it!"
   ]
  },
  {
   "cell_type": "code",
   "execution_count": 65,
   "metadata": {
    "collapsed": false
   },
   "outputs": [],
   "source": [
    "# Use N to redefine N\n",
    "n = n + n"
   ]
  },
  {
   "cell_type": "code",
   "execution_count": 66,
   "metadata": {
    "collapsed": false
   },
   "outputs": [
    {
     "data": {
      "text/plain": [
       "14"
      ]
     },
     "execution_count": 66,
     "metadata": {},
     "output_type": "execute_result"
    }
   ],
   "source": [
    "# Check\n",
    "n"
   ]
  },
  {
   "cell_type": "markdown",
   "metadata": {},
   "source": [
    "### What can I use to create variable names?\n",
    "\n",
    "1. Can't start with a number\n",
    "2. No spaces, use_underscores_for_names\n",
    "3. Can't use :'\",<>/?|\\()!@#$%^&*~-+\n",
    "4. It's a good habit to keep names lowercase(PEP8)\n",
    "\n",
    "Variable names are a good way to keep track of information in your Python programs"
   ]
  },
  {
   "cell_type": "code",
   "execution_count": null,
   "metadata": {
    "collapsed": true
   },
   "outputs": [],
   "source": []
  },
  {
   "cell_type": "code",
   "execution_count": null,
   "metadata": {
    "collapsed": true
   },
   "outputs": [],
   "source": []
  },
  {
   "cell_type": "code",
   "execution_count": null,
   "metadata": {
    "collapsed": true
   },
   "outputs": [],
   "source": []
  },
  {
   "cell_type": "code",
   "execution_count": null,
   "metadata": {
    "collapsed": true
   },
   "outputs": [],
   "source": []
  }
 ],
 "metadata": {
  "kernelspec": {
   "display_name": "Python 2",
   "language": "python",
   "name": "python2"
  },
  "language_info": {
   "codemirror_mode": {
    "name": "ipython",
    "version": 2
   },
   "file_extension": ".py",
   "mimetype": "text/x-python",
   "name": "python",
   "nbconvert_exporter": "python",
   "pygments_lexer": "ipython2",
   "version": "2.7.11"
  }
 },
 "nbformat": 4,
 "nbformat_minor": 0
}
