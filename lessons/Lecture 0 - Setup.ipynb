{
 "cells": [
  {
   "cell_type": "markdown",
   "metadata": {
    "collapsed": true
   },
   "source": [
    "# Setup and Installation Instructions\n",
    "\n",
    "Note: even if you already have a verion of Python installed, you still need to follow these instructions. \n",
    "\n",
    "### 1. Go to the [Anaconda Installation page](https://www.continuum.io/downloads) \n",
    "Click on the Python 3.5 Graphical Installer for your system to download the installer. **Do not click the command line installer**\n",
    "\n",
    "![](../images/anaconda.png)\n",
    "\n",
    "### 2. Follow the default directions for the graphical installer you chose.\n",
    "\n",
    "![](../images/install.png)\n",
    "\n",
    "### Install Jupyter Notebooks \n",
    "\n",
    "All installation commands should be run in the Terminal (for Mac and Linux) or the Command Prompt/Powershell (Windows). (Mac users should just search for terminal in Spotlight search, Windows Users just search for either powershell or cmd in your windows search tool to find your approriate installation tool). You also have the option of using the Anaconda Command Prompt.\n",
    "\n",
    "Go to your terminal/command prompt and type: ```conda install jupyter```\n",
    "\n",
    "You should see some text show up describing the installation. \n",
    "* It may say \"All requested packages already installed\" and that means it's already up to date.\n",
    "* It may ask you whether you want to update jupyter and give you the option (y/n). Hit y then enter, and it will download.\n",
    "\n",
    "![](../images/jupyter.png)\n",
    "\n",
    "### Open Jupyter Notebooks\n",
    "Once the installation is done, in your terminal/command prompt type: ```jupyter notebook```\n",
    "* it's ok if more text runs after it\n",
    "\n",
    "![](../images/open.png)\n",
    "\n",
    "You should eventually see a new tab open up in your browser for you to begin using Jupyter Notebooks.\n",
    "\n",
    "![](../images/home.png)\n",
    "\n",
    "### Did it work?\n",
    "Click New in the upper right hand corner, drop down, and click python.\n",
    "\n",
    "![](../images/notebook.png)\n",
    "\n",
    "Into a cell copy and paste: ```print('Hello World!')``` and hit Shift + Enter.\n",
    "* It should output:\n",
    "```Hello World!```\n",
    "\n",
    "### Check the Command Line\n",
    "1. From your Command Line (Mac/Linux = Terminal, Windows = anaconda command prompt, cmd, or powershell) type ```python``` and hit Enter.\n",
    "2. You should see three arrows like this \">>>\" \n",
    "3. copy and paste: ```print('Hello World!')``` and hit Enter.\n",
    "4. It should output: ```Hello World!```\n",
    "5. Type ```exit()``` to get out, or just close the window\n",
    "\n",
    "![](../images/py.png)\n"
   ]
  },
  {
   "cell_type": "markdown",
   "metadata": {},
   "source": [
    "### For those that want a little more\n",
    "Feel free to checkout the [tools](https://github.com/hackoregon/hack-u-py-foundations-sum16/blob/master/resources/tools.md) file in resources, and install any additional fun tools that you want.\n",
    "\n",
    "For even more beyond that get python running in your command prompt again try running ```import this```, and see what happens"
   ]
  }
 ],
 "metadata": {
  "anaconda-cloud": {},
  "kernelspec": {
   "display_name": "Python 2",
   "language": "python",
   "name": "python2"
  },
  "language_info": {
   "codemirror_mode": {
    "name": "ipython",
    "version": 2
   },
   "file_extension": ".py",
   "mimetype": "text/x-python",
   "name": "python",
   "nbconvert_exporter": "python",
   "pygments_lexer": "ipython2",
   "version": "2.7.11"
  }
 },
 "nbformat": 4,
 "nbformat_minor": 0
}
