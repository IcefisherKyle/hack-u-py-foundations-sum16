{
 "cells": [
  {
   "cell_type": "markdown",
   "metadata": {},
   "source": [
    "# if/elif/else  and for Loop Practice\n",
    "\n",
    "1. Assign the value 7 to the variable guess_me. Then, write the conditional tests (if, else, and elif) to print the string 'too low' if guess_me is less than 7, 'too high' if greater than 7, and 'just right' if equal to 7.\n",
    "\n",
    "range is a way for us to create an object to iterate over a specific number of times. try printing:\n",
    "```\n",
    "print(range(10))\n",
    "```\n",
    "```\n",
    "print(list(range(10)))\n",
    "```\n",
    "and \n",
    "```\n",
    "for number in range(10):\n",
    "    print(number)\n",
    "```\n",
    "to get a feel for how range works.\n",
    "\n",
    "2. Create a for loop that has 10 iterations, and use our logic from the last quesiton to test whether the number we're counting is smaller, equal, or larger than 7.\n",
    "\n",
    "2. Set the list [3, 2, 1, 0] to the variable iterable. Use a for loop to print the values.\n",
    "\n",
    "3. Use a for loop to print each value of our iterable list + 3.\n",
    "\n",
    "4. Create a new empty list iterable_plus_3. Use a for loop to fill our new iterable_plus_3 list with the same values as iterable increased by 3. Be sure to print iterable_plus_3 to confirm it is correct\n",
    "\n",
    "5. Create an empty list iterable_odds. Use a for loop to fill our new list with all the odd numbers from iterable.\n",
    "\n",
    "6. (difficult, attempt to build one piece at a time) create an dictionary called iterable_dict where 'even' and 'odd' keys set to the integer 0. Create a for loop that counts the number of even numbers and odd numbers in your list iterable_plus_3.(Bonus: try do do the same thing starting with an empty dictionary)\n",
    "\n",
    "## Solutions\n",
    "\n",
    "Assign the value 7 to the variable guess_me. Then, write the conditional tests (if, else, and elif) to print the string 'too low' if guess_me is less than 7, 'too high' if greater than 7, and 'just right' if equal to 7."
   ]
  },
  {
   "cell_type": "code",
   "execution_count": null,
   "metadata": {
    "collapsed": true
   },
   "outputs": [],
   "source": [
    "guess_me = 7\n",
    "if guess_me < 7:\n",
    "    print('too low')\n",
    "elif guess_me > 7:\n",
    "    print('too high')\n",
    "else:\n",
    "    print('ahh just right')"
   ]
  },
  {
   "cell_type": "markdown",
   "metadata": {},
   "source": [
    "Create a for loop that has 10 iterations, and use our logic from the last quesiton to test whether the number we're counting is smaller, equal, or larger than 7."
   ]
  },
  {
   "cell_type": "code",
   "execution_count": 26,
   "metadata": {
    "collapsed": false
   },
   "outputs": [
    {
     "name": "stdout",
     "output_type": "stream",
     "text": [
      "range(0, 10)\n",
      "[0, 1, 2, 3, 4, 5, 6, 7, 8, 9]\n",
      "0\n",
      "1\n",
      "2\n",
      "3\n",
      "4\n",
      "5\n",
      "6\n",
      "7\n",
      "8\n",
      "9\n"
     ]
    }
   ],
   "source": [
    "print(range(10))\n",
    "print(list(range(10)))\n",
    "for number in range(10):\n",
    "    print(number)"
   ]
  },
  {
   "cell_type": "code",
   "execution_count": 27,
   "metadata": {
    "collapsed": false
   },
   "outputs": [
    {
     "name": "stdout",
     "output_type": "stream",
     "text": [
      "too low\n",
      "too low\n",
      "too low\n",
      "too low\n",
      "too low\n",
      "too low\n",
      "too low\n",
      "ahh just right\n",
      "too high\n",
      "too high\n"
     ]
    }
   ],
   "source": [
    "for guess_me in range(10):\n",
    "    if guess_me < 7:\n",
    "        print('too low')\n",
    "    elif guess_me > 7:\n",
    "        print('too high')\n",
    "    else:\n",
    "        print('ahh just right')"
   ]
  },
  {
   "cell_type": "markdown",
   "metadata": {},
   "source": [
    "Set the list [3, 2, 1, 0] to the variable iterable. Use a for loop to print the values."
   ]
  },
  {
   "cell_type": "code",
   "execution_count": 9,
   "metadata": {
    "collapsed": false
   },
   "outputs": [
    {
     "name": "stdout",
     "output_type": "stream",
     "text": [
      "6\n",
      "5\n",
      "4\n",
      "3\n",
      "2\n",
      "1\n",
      "0\n"
     ]
    }
   ],
   "source": [
    "iterable = [6,5,4,3,2,1,0]\n",
    "for value in iterable:\n",
    "    print(value)"
   ]
  },
  {
   "cell_type": "markdown",
   "metadata": {},
   "source": [
    "Use a for loop to print each value of our iterable list + 3."
   ]
  },
  {
   "cell_type": "code",
   "execution_count": 10,
   "metadata": {
    "collapsed": false
   },
   "outputs": [
    {
     "name": "stdout",
     "output_type": "stream",
     "text": [
      "9\n",
      "8\n",
      "7\n",
      "6\n",
      "5\n",
      "4\n",
      "3\n"
     ]
    }
   ],
   "source": [
    "for value in iterable:\n",
    "    print(value+3)"
   ]
  },
  {
   "cell_type": "markdown",
   "metadata": {},
   "source": [
    "Create a new empty list iterable_plus_3. Use a for loop to fill our new iterable_plus_3 list with the same values as iterable increased by 3. Be sure to print iterable_plus_3 to confirm it is correct."
   ]
  },
  {
   "cell_type": "code",
   "execution_count": 12,
   "metadata": {
    "collapsed": false
   },
   "outputs": [
    {
     "name": "stdout",
     "output_type": "stream",
     "text": [
      "[9, 8, 7, 6, 5, 4, 3]\n"
     ]
    }
   ],
   "source": [
    "iterable_plus_3 = []\n",
    "for value in iterable:\n",
    "    iterable_plus_3.append(value+3)\n",
    "\n",
    "print(iterable_plus_3)"
   ]
  },
  {
   "cell_type": "code",
   "execution_count": 14,
   "metadata": {
    "collapsed": false
   },
   "outputs": [
    {
     "name": "stdout",
     "output_type": "stream",
     "text": [
      "[5, 3, 1]\n"
     ]
    }
   ],
   "source": [
    "iterable_odds = []\n",
    "for i in iterable:\n",
    "    if i % 2 == 1:\n",
    "        iterable_odds.append(i)\n",
    "print(iterable_odds)"
   ]
  },
  {
   "cell_type": "code",
   "execution_count": 19,
   "metadata": {
    "collapsed": false
   },
   "outputs": [
    {
     "name": "stdout",
     "output_type": "stream",
     "text": [
      "{'even': 3, 'odd': 4}\n",
      "{'even': 3, 'odd': 4}\n",
      "{'even': 3, 'odd': 4}\n"
     ]
    }
   ],
   "source": [
    "# Create new dictionary\n",
    "iterable_dict = {'odd':0,'even':0}\n",
    "\n",
    "#loop over all of the entries in iterable_plus_3\n",
    "for number in iterable_plus_3:\n",
    "    \n",
    "    # If our the number is odd, add one to odd\n",
    "    if number % 2 == 1:\n",
    "        iterable_dict['odd'] += 1\n",
    "    # If our the even is odd, add one to even\n",
    "    elif number % 2 == 0:\n",
    "        iterable_dict['even'] += 1\n",
    "        \n",
    "print(iterable_dict)\n",
    "\n",
    "# Bonus!\n",
    "\n",
    "iterable_dict = {}\n",
    "for number in iterable_plus_3:\n",
    "    if number % 2 == 1:\n",
    "        if 'odd' in iterable_dict:\n",
    "            iterable_dict['odd'] += 1\n",
    "        else:\n",
    "            iterable_dict['odd'] = 1\n",
    "    elif number % 2 == 0:\n",
    "        if 'even' in iterable_dict:\n",
    "            iterable_dict['even'] += 1\n",
    "        else:\n",
    "            iterable_dict['even'] = 1\n",
    "print(iterable_dict)\n",
    "\n",
    "\n",
    "# Double Bonus!\n",
    "iterable_dict = {}\n",
    "for number in iterable_plus_3:\n",
    "    if number % 2 == 1:\n",
    "        iterable_dict['odd'] = iterable_dict.get('odd',0) + 1\n",
    "    elif number % 2 == 0:\n",
    "        iterable_dict['even'] = iterable_dict.get('even',0) + 1\n",
    "print(iterable_dict)"
   ]
  },
  {
   "cell_type": "code",
   "execution_count": null,
   "metadata": {
    "collapsed": true
   },
   "outputs": [],
   "source": []
  }
 ],
 "metadata": {
  "kernelspec": {
   "display_name": "Python 3",
   "language": "python",
   "name": "python3"
  },
  "language_info": {
   "codemirror_mode": {
    "name": "ipython",
    "version": 3
   },
   "file_extension": ".py",
   "mimetype": "text/x-python",
   "name": "python",
   "nbconvert_exporter": "python",
   "pygments_lexer": "ipython3",
   "version": "3.5.2"
  }
 },
 "nbformat": 4,
 "nbformat_minor": 0
}
