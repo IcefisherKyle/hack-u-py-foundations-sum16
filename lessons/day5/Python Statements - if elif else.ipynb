{
 "cells": [
  {
   "cell_type": "markdown",
   "metadata": {},
   "source": [
    "# Intro to Python Statements\n",
    "\n",
    "Without boring you too much, we're going to quickly cover python syntax and white space. Remember in the beginning when I said python was human readable?\n",
    "```\n",
    "Version 1 (Other Languages)\n",
    "if (a>b){\n",
    "    a = 2;\n",
    "    b = 4;\n",
    "}\n",
    "\n",
    "Version 2 (Python)\n",
    "if a>b:\n",
    "    a = 2\n",
    "    b = 4\n",
    "```    \n",
    "Other languages use () and {} and ; to tell the computer what's happening and where. Python instead uses a :, whitespace, and a line ending.\n",
    "```\n",
    "Other Languages\n",
    "if (x)\n",
    "    if(y)\n",
    "        code-statement;\n",
    "else\n",
    "    another-code-statement;\n",
    "\n",
    "Python\n",
    "if x:\n",
    "    if y:\n",
    "        code-statement\n",
    "else:\n",
    "    another-code-statement\n",
    "```"
   ]
  },
  {
   "cell_type": "markdown",
   "metadata": {},
   "source": [
    "# if, elif, else Statements\n",
    "\n",
    "If statements allow us to make decisions in python that we set. You can think of it like a fork in the road.\n",
    "\n",
    "We can think about it like telling the computer \"if this case happens, then you should do this.\"\n",
    "\n",
    "beyond that we can use an elif else statement\n",
    "\n",
    "\"If this case1 happens, then you should do this, else if the other case2 happens, then do that, else-- none of the above cases happened, you should do the other thing.\"\n",
    "\n",
    "The syntax looks like this:\n",
    "\n",
    "```python\n",
    "if case1:\n",
    "    do this\n",
    "elif case2:\n",
    "    do that\n",
    "else:\n",
    "    do the other thing\n",
    "```\n",
    "\n",
    "Notice that the code we want to run when the condition is True is under the statement and indented over by 4 spaces. "
   ]
  },
  {
   "cell_type": "code",
   "execution_count": 1,
   "metadata": {
    "collapsed": false
   },
   "outputs": [
    {
     "name": "stdout",
     "output_type": "stream",
     "text": [
      "It's true\n"
     ]
    }
   ],
   "source": [
    "# Most simply we have\n",
    "if True:\n",
    "    print(\"It's true\")"
   ]
  },
  {
   "cell_type": "code",
   "execution_count": 2,
   "metadata": {
    "collapsed": false
   },
   "outputs": [
    {
     "name": "stdout",
     "output_type": "stream",
     "text": [
      "This is printed when X is not True\n"
     ]
    }
   ],
   "source": [
    "x = False\n",
    "if x:\n",
    "    print('X was True!')\n",
    "else:\n",
    "    print('This is printed when X is not True')"
   ]
  },
  {
   "cell_type": "markdown",
   "metadata": {},
   "source": [
    "## Multiple branching if statements\n",
    "\n",
    "Let's see our full repitoire of if, elif, and else"
   ]
  },
  {
   "cell_type": "code",
   "execution_count": 4,
   "metadata": {
    "collapsed": false
   },
   "outputs": [
    {
     "name": "stdout",
     "output_type": "stream",
     "text": [
      "Welcome to Class\n"
     ]
    }
   ],
   "source": [
    "location = 'Centrl Office'\n",
    "\n",
    "if location == 'home':\n",
    "    print('Welcome Home!')\n",
    "elif location == 'Centrl Office':\n",
    "    print('Welcome to Class')\n",
    "elif location == 'Work':\n",
    "    print('Someone has a case of the Mondays')\n",
    "else:\n",
    "    print('Uh Oh... Where are you???')"
   ]
  },
  {
   "cell_type": "code",
   "execution_count": 6,
   "metadata": {
    "collapsed": false
   },
   "outputs": [
    {
     "name": "stdout",
     "output_type": "stream",
     "text": [
      "Who are you?\n"
     ]
    }
   ],
   "source": [
    "person = 'Bob'\n",
    "\n",
    "if person == 'Sammy':\n",
    "    print(\"What's up Sammy!\")\n",
    "elif person == 'Erika':\n",
    "    print('Hey Erika')\n",
    "else:\n",
    "    print('Who are you?')"
   ]
  },
  {
   "cell_type": "markdown",
   "metadata": {},
   "source": [
    "### Note on Indentation\n",
    "It is important to keep track of how indentation works in Python. The code you want to run is directly under the statement and is indented. We'll see this again in functions."
   ]
  },
  {
   "cell_type": "code",
   "execution_count": null,
   "metadata": {
    "collapsed": true
   },
   "outputs": [],
   "source": []
  }
 ],
 "metadata": {
  "kernelspec": {
   "display_name": "Python 3",
   "language": "python",
   "name": "python3"
  },
  "language_info": {
   "codemirror_mode": {
    "name": "ipython",
    "version": 3
   },
   "file_extension": ".py",
   "mimetype": "text/x-python",
   "name": "python",
   "nbconvert_exporter": "python",
   "pygments_lexer": "ipython3",
   "version": "3.5.2"
  }
 },
 "nbformat": 4,
 "nbformat_minor": 0
}
