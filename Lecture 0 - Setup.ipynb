{
 "cells": [
  {
   "cell_type": "code",
   "execution_count": null,
   "metadata": {
    "collapsed": true
   },
   "outputs": [],
   "source": [
    "Installing Anaconda(AKA a pre-packaged version of Python)\n",
    "Installing git"
   ]
  },
  {
   "cell_type": "markdown",
   "metadata": {},
   "source": [
    "# Python 2 vs Python 3\n",
    "\n",
    "\"Short version: Python 2.x is legacy, Python 3.x is the present and future of the language\"\n",
    " \n",
    "#### Python 2 \n",
    "* Came out in 2000\n",
    "* The latest version 2.7 was released in 2010\n",
    "* Will lose support in 2020\n",
    "\n",
    "#### Python 3 \n",
    "* Was released in 2008\n",
    "* More libraries are beginning to support python 3, but not all (good way to contribute to open source)\n",
    "\n",
    "Which will we choose?\n",
    "\n",
    "Both! ...sort of\n",
    "\n",
    "We'll use 2.7, since if you were going to get a job today, that's likely what you'd be using\n",
    "* Organizations still have Python 2 in code base\n",
    "* If you were to get hired tomorrow, you'd likely have to program in 2.7\n",
    "\n",
    "We will teach you the effective differences along the way, so you'll recognize and be able to code in python 3, and how to convert python 2 to 3\n",
    "\n",
    "\n",
    "![](py23comp1.jpg)"
   ]
  },
  {
   "cell_type": "code",
   "execution_count": 1,
   "metadata": {
    "collapsed": false
   },
   "outputs": [
    {
     "name": "stdout",
     "output_type": "stream",
     "text": [
      "The Zen of Python, by Tim Peters\n",
      "\n",
      "Beautiful is better than ugly.\n",
      "Explicit is better than implicit.\n",
      "Simple is better than complex.\n",
      "Complex is better than complicated.\n",
      "Flat is better than nested.\n",
      "Sparse is better than dense.\n",
      "Readability counts.\n",
      "Special cases aren't special enough to break the rules.\n",
      "Although practicality beats purity.\n",
      "Errors should never pass silently.\n",
      "Unless explicitly silenced.\n",
      "In the face of ambiguity, refuse the temptation to guess.\n",
      "There should be one-- and preferably only one --obvious way to do it.\n",
      "Although that way may not be obvious at first unless you're Dutch.\n",
      "Now is better than never.\n",
      "Although never is often better than *right* now.\n",
      "If the implementation is hard to explain, it's a bad idea.\n",
      "If the implementation is easy to explain, it may be a good idea.\n",
      "Namespaces are one honking great idea -- let's do more of those!\n"
     ]
    }
   ],
   "source": [
    "import this"
   ]
  },
  {
   "cell_type": "code",
   "execution_count": null,
   "metadata": {
    "collapsed": true
   },
   "outputs": [],
   "source": []
  }
 ],
 "metadata": {
  "kernelspec": {
   "display_name": "Python 2",
   "language": "python",
   "name": "python2"
  },
  "language_info": {
   "codemirror_mode": {
    "name": "ipython",
    "version": 2
   },
   "file_extension": ".py",
   "mimetype": "text/x-python",
   "name": "python",
   "nbconvert_exporter": "python",
   "pygments_lexer": "ipython2",
   "version": "2.7.11"
  }
 },
 "nbformat": 4,
 "nbformat_minor": 0
}
