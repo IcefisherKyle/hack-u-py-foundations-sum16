{
 "cells": [
  {
   "cell_type": "markdown",
   "metadata": {},
   "source": [
    "# Web Scraping in Python\n",
    "\n",
    "In this appendix lecture we'll go over how to scrape information from the web using Python. \n",
    "\n",
    "##### We'll go to a website, decide what information we want, see where and how it is stored, then scrape it and set it as a pandas DataFrame!\n",
    "\n",
    "#### Some things you should consider before web scraping a website:\n",
    "\n",
    "1.) You should check a site's terms and conditions before you scrape them. \n",
    "\n",
    "2.) Space out your requests so you don't overload the site's server, doing this could get you blocked.\n",
    "\n",
    "3.) Scrapers break after time - web pages change their layout all the time, you'll more than likely have to rewrite your code. \n",
    "\n",
    "4.) Web pages are usually inconsistent, more than likely you'll have to clean up the data after scraping it.\n",
    "\n",
    "5.) Every web page and situation is different, you'll have to spend time configuring your scraper.\n",
    "\n",
    "#### To learn more about HTML I suggest theses two resources:\n",
    "\n",
    "[W3School](http://www.w3schools.com/html/)\n",
    "\n",
    "[Codecademy](http://www.codecademy.com/tracks/web)\n",
    "\n",
    "\n",
    "#### There are three modules we'll need in addition to python are:\n",
    "\n",
    "1.) BeautifulSoup, which you can download by typing: *pip install beautifulsoup4* or *conda install beautifulsoup4* (for the Anaconda distrbution of Python) in your command prompt.\n",
    "\n",
    "2.) lxml , which you can download by typing: *pip install lxml* or *conda install lxml* (for the Anaconda distrbution of Python) in your command prompt.\n",
    "\n",
    "3.) requests,  which you can download by typing: *pip install requests* or *conda install requests* (for the Anaconda distrbution of Python) in your command prompt.\n",
    "\n",
    "We'll start with our imports:"
   ]
  },
  {
   "cell_type": "code",
   "execution_count": 1,
   "metadata": {
    "collapsed": false
   },
   "outputs": [],
   "source": [
    "from bs4 import BeautifulSoup\n",
    "import requests\n",
    "import pandas as pd\n",
    "import numpy as np\n",
    "from pandas import Series,DataFrame"
   ]
  },
  {
   "cell_type": "markdown",
   "metadata": {},
   "source": [
    "If you get an import error, you'll need to check which python version (anaconda or not) you're using. If you downloaded jupyter with anaconda, it will likely default to an anaconda environment. you can check by running the command below"
   ]
  },
  {
   "cell_type": "code",
   "execution_count": 2,
   "metadata": {
    "collapsed": false
   },
   "outputs": [
    {
     "data": {
      "text/plain": [
       "'3.5.2 |Continuum Analytics, Inc.| (default, Jul  2 2016, 17:52:12) \\n[GCC 4.2.1 Compatible Apple LLVM 4.2 (clang-425.0.28)]'"
      ]
     },
     "execution_count": 2,
     "metadata": {},
     "output_type": "execute_result"
    }
   ],
   "source": [
    "import sys\n",
    "sys.version"
   ]
  },
  {
   "cell_type": "code",
   "execution_count": 3,
   "metadata": {
    "collapsed": false
   },
   "outputs": [
    {
     "data": {
      "text/plain": [
       "'/Users/mac28/anaconda/envs/py35/bin/python'"
      ]
     },
     "execution_count": 3,
     "metadata": {},
     "output_type": "execute_result"
    }
   ],
   "source": [
    "sys.executable"
   ]
  },
  {
   "cell_type": "markdown",
   "metadata": {},
   "source": [
    "You may need to activate that specific environement, and then install the packages to be able to use them in your notebook"
   ]
  },
  {
   "cell_type": "markdown",
   "metadata": {
    "collapsed": true
   },
   "source": [
    "## Find the webpage that you want to scrape\n",
    "\n",
    "My scraping script is specific to multnomah county apartment listings on craigslist, so you'll want to:\n",
    "* navigate to that page\n",
    "* look at the source code."
   ]
  },
  {
   "cell_type": "code",
   "execution_count": 4,
   "metadata": {
    "collapsed": true
   },
   "outputs": [],
   "source": [
    "id_number = '5715121196'"
   ]
  },
  {
   "cell_type": "code",
   "execution_count": 5,
   "metadata": {
    "collapsed": false
   },
   "outputs": [
    {
     "data": {
      "text/plain": [
       "'https://portland.craigslist.org/mlt/apa/5715121196.html'"
      ]
     },
     "execution_count": 5,
     "metadata": {},
     "output_type": "execute_result"
    }
   ],
   "source": [
    "url = 'https://portland.craigslist.org/mlt/apa'+'/'+id_number+'.html'\n",
    "url"
   ]
  },
  {
   "cell_type": "code",
   "execution_count": 6,
   "metadata": {
    "collapsed": false,
    "scrolled": true
   },
   "outputs": [
    {
     "name": "stdout",
     "output_type": "stream",
     "text": [
      "<class 'bs4.BeautifulSoup'>\n",
      "<!DOCTYPE html>\n",
      "\n",
      "<html class=\"no-js\">\n",
      "<head>\n",
      "<title>OHSU - One Bedroom, One Bath Condo - Charming Historical Building</title>\n",
      "<link href=\"http://portland.craigslist.org/mlt/apa/5715121196.html\" rel=\"canonical\">\n",
      "<meta content=\"Showing Instructions: To schedule a showing in this competitive rental market, just click the green Schedule Showing button on our website to quickly request a showing. It's as easy as 1,2,3. Get the \" name=\"description\">\n",
      "<meta content=\"noarchive,nofollow,unavailable_after:Wednesday, 07-Sep-16 14:40:13 PDT\" name=\"robots\">\n",
      "<meta content=\"preview\" name=\"twitter:card\">\n",
      "<meta content=\"Showing Instructions: To schedule a showing in this competitive rental market, just click the green Schedule Showing button on our website to quickly request a showing. It's as easy as 1,2,3. Get the \" property=\"og:description\">\n",
      "<meta content=\"https://images.craigslist.org/00n0n_iDdLMUCqtJB_600x450.jpg\" property=\"og:image\">\n",
      "<meta content=\"craigslist\" property=\"og:site_name\">\n",
      "<meta content=\"OHSU - One Bedroom, One Bath Condo - Charming Historical Building\" property=\"og:title\">\n",
      "<meta content=\"article\" property=\"og:type\">\n",
      "<meta content=\"http://portland.craigslist.org/mlt/apa/5715121196.html\" property=\"og:url\">\n",
      "<meta content=\"width=device-width,initial-scale=1\" name=\"viewport\">\n",
      "<link href=\"//www.craigslist.org/styles/cl.css?v=8bdb0cf3d743129c14696bf6f621f16f\" media=\"all\" rel=\"stylesheet\" type=\"text/css\">\n",
      "<link href=\"//www.craigslist.org/styles/postings.css?v=2bd75ea1e8c74f64c13a90d105affaba\" media=\"all\" rel=\"stylesheet\" type=\"text/css\">\n",
      "<link href=\"//www.craigslist.org/styles/leaflet.css?v=52966d0fad2afe8dd918e5f48abb0db3\" media=\"all\" rel=\"stylesheet\" type=\"text/css\">\n",
      "<!--[if lt IE 9]>\n",
      "<script src=\"//www.craigslist.org/js/html5shiv.min.js?v=096822b653643ed1af3136947e4ea79a\" type=\"text/javascript\" ></script>\n",
      "\n",
      "<script src=\"//www.craigslist.org/js/respond-fork.min.js?v=d7e1cb0d97ee0c0c9d84a7d4f1d03469\" type=\"text/javascript\" ></script>\n",
      "\n",
      "<![endif]-->\n",
      "<!--[if lte IE 7]>\n",
      "<script src=\"//www.craigslist.org/js/json2.min.js?v=178d4ad319e0e0b4a451b15e49b71bec\" type=\"text/javascript\" ></script>\n",
      "\n",
      "<![endif]-->\n",
      "</link></link></link></meta></meta></meta></meta></meta></meta></meta></meta></meta></meta></link></head>\n",
      "<body class=\"posting en\">\n",
      "<script type=\"text/javascript\"><!--\n",
      "    function C(k){return(document.cookie.match('(^|; )'+k+'=([^;]*)')||0)[2]}\n",
      "    var pagetype, pagemode;\n",
      "    (function(){\n",
      "        var h = document.documentElement;\n",
      "        h.className = h.className.replace('no-js', 'js');\n",
      "        var b = document.body;\n",
      "        var bodyClassList = b.className.split(/\\s+/);;\n",
      "        pagetype = bodyClassList[0]; // dangerous assumption\n",
      "        var fmt = C('cl_fmt');\n",
      "        if ( fmt === 'regular' || fmt === 'mobile' ) {\n",
      "            pagemode = fmt;\n",
      "        } else if (screen.width <= 480) {\n",
      "            pagemode = 'mobile';\n",
      "        } else {\n",
      "            pagemode = 'regular';\n",
      "        }\n",
      "        pagemode = pagemode === 'mobile' ? 'mobile' : 'desktop';\n",
      "        bodyClassList.push(pagemode);\n",
      "        if (C('hidesearch') === '1' && pagemode !== 'mobile') {\n",
      "            bodyClassList.push('hide-search');\n",
      "        }\n",
      "        var width = window.innerWidth || document.documentElement.clientWidth;\n",
      "        if (width > 1000) { bodyClassList.push('w1024'); }\n",
      "        if (typeof window.sectionBase !== 'undefined') {\n",
      "            var mode = (decodeURIComponent(C('cl_tocmode') || '').match(new RegExp(window.sectionBase + ':([^,]+)', 'i')) || {})[1] || window.defaultView;\n",
      "            if (mode) {\n",
      "                bodyClassList.push(mode);\n",
      "            }\n",
      "        }\n",
      "        b.className = bodyClassList.join(' ');\n",
      "    }());\n",
      "--></script>\n",
      "<section id=\"pagecontainer\">\n",
      "<div class=\"bglogo\"></div>\n",
      "<header class=\"global-header\">\n",
      "<a class=\"header-logo\" href=\"/\">CL</a>\n",
      "<nav class=\"breadcrumbs-container\">\n",
      "<ul class=\"breadcrumbs\">\n",
      "<li class=\"crumb area\">\n",
      "<p>\n",
      "<a href=\"/\">portland</a>\n",
      "<span class=\"breadcrumb-arrow\">&gt;</span>\n",
      "</p>\n",
      "</li>\n",
      "<li class=\"crumb subarea\">\n",
      "<p>\n",
      "<a href=\"/mlt/\">multnomah co</a>\n",
      "<span class=\"breadcrumb-arrow\">&gt;</span>\n",
      "</p>\n",
      "</li>\n",
      "<li class=\"crumb section\">\n",
      "<p>\n",
      "<a href=\"/mlt/hhh\">housing</a>\n",
      "<span class=\"breadcrumb-arrow\">&gt;</span>\n",
      "</p>\n",
      "</li>\n",
      "<li class=\"crumb category\">\n",
      "<p>\n",
      "<a href=\"/mlt/apa\">apts/housing for rent</a>\n",
      "</p>\n",
      "</li>\n",
      "<li class=\"crumb no-js\">\n",
      "<input type=\"submit\" value=\"go\">\n",
      "</input></li>\n",
      "</ul>\n",
      "</nav>\n",
      "<div class=\"userlinks\">\n",
      "<ul class=\"user-actions\">\n",
      "<li class=\"user post\">\n",
      "<a href=\"https://post.craigslist.org/c/pdx\">post</a>\n",
      "</li>\n",
      "<li class=\"user account\">\n",
      "<a href=\"https://accounts.craigslist.org/login/home\">account</a>\n",
      "</li>\n",
      "</ul>\n",
      "<ul class=\"user-favs-discards\">\n",
      "<li class=\"user\">\n",
      "<div class=\"favorites\">\n",
      "<a class=\"favlink\" href=\"#\"><span aria-hidden=\"true\" class=\"icon icon-star fav\"></span><span class=\"fav-number\"></span><span class=\"fav-label\"> favorites</span></a>\n",
      "</div>\n",
      "</li>\n",
      "<li class=\"user discards\">\n",
      "<form action=\"/favorites\" class=\"unfavform js-only\" method=\"POST\">\n",
      "<div class=\"to-banish-page\">\n",
      "<input class=\"lastLink\" name=\"lastLink\" type=\"hidden\" value=\"/mlt/apa/5715121196.html\">\n",
      "<input class=\"lastTitle\" name=\"lastTitle\" type=\"hidden\" value=\"OHSU - One Bedroom, One Bath Condo - Charming Historical Building\">\n",
      "<input class=\"unfaves\" name=\"fl\" type=\"hidden\">\n",
      "<input name=\"uf\" type=\"hidden\" value=\"1\">\n",
      "<a class=\"to-banish-page-link\" href=\"#\">\n",
      "<span aria-hidden=\"true\" class=\"icon icon-trash red\"></span>\n",
      "<span class=\"banished_count\"></span>\n",
      "<span class=\"discards-label\"> hidden</span>\n",
      "</a>\n",
      "</input></input></input></input></div>\n",
      "</form>\n",
      "</li>\n",
      "</ul>\n",
      "</div>\n",
      "</header>\n",
      "<section class=\"body\">\n",
      "<header class=\"dateReplyBar\">\n",
      "<script type=\"text/javascript\"><!--\n",
      "var bestOf = \"\";\n",
      "var buttonPostingID = \"5715121196\";\n",
      "var isPreview = \"\";\n",
      "--></script>\n",
      "<button class=\"reply_button js-only\">reply <span class=\"envelope\">✉</span> <span class=\"phone\">☎</span></button>\n",
      "<span class=\"replylink\"><a href=\"/reply/pdx/apa/5715121196\" id=\"replylink\">reply</a></span>\n",
      "<div class=\"returnemail js-only\"></div>\n",
      "<aside class=\"flags\">\n",
      "<a class=\"flaglink\" data-flag=\"28\" href=\"https://post.craigslist.org/flag?flagCode=28&amp;postingID=5715121196&amp;subareaid=1&amp;areaid=9&amp;cat=apa&amp;area=pdx\" title=\"flag as prohibited / spam / miscategorized\"><span class=\"flag\">x</span> <span class=\"flagtext\">prohibited</span></a><sup>[<a href=\"http://www.craigslist.org/about/prohibited\">?</a>]</sup>\n",
      "</aside>\n",
      "<p class=\"postinginfo reveal\" id=\"display-date\">Posted <time class=\"timeago\" datetime=\"2016-08-03T14:46:10-0700\">2016-08-03  2:46pm</time></p>\n",
      "<a href=\"#\" id=\"printme\">print</a>\n",
      "<div class=\"prevnext js-only\">\n",
      "<a class=\"prev\">◀  prev </a>\n",
      "<a class=\"backup\" title=\"back to search\">▲</a>\n",
      "<a class=\"next\"> next ▶ </a>\n",
      "</div>\n",
      "</header>\n",
      "<h2 class=\"postingtitle\">\n",
      "<span class=\"icon icon-star\" role=\"button\">\n",
      "<span class=\"screen-reader-text\">favorite this post</span>\n",
      "</span>\n",
      "<span class=\"postingtitletext\">\n",
      "<span class=\"price\">$1595</span> <span class=\"housing\">/ 1br - 581ft<sup>2</sup> - </span><span id=\"titletextonly\">OHSU - One Bedroom, One Bath Condo - Charming Historical Building</span><small> (SW Portland)</small> <span class=\"js-only banish-unbanish\">\n",
      "<span class=\"banish\" role=\"button\">\n",
      "<span aria-hidden=\"true\" class=\"icon icon-trash\"></span>\n",
      "<span class=\"screen-reader-text\">hide this posting</span>\n",
      "</span>\n",
      "<span class=\"unbanish\" role=\"button\">\n",
      "<span aria-hidden=\"true\" class=\"icon icon-trash red\"></span>\n",
      "    unhide\n",
      "  </span>\n",
      "</span>\n",
      "</span>\n",
      "</h2>\n",
      "<section class=\"userbody\">\n",
      "<figure class=\"iw multiimage\">\n",
      "<div class=\"gallery\">\n",
      "<span class=\"slider-back arrow\">&lt;</span>\n",
      "<span class=\"slider-info\">image 1 of 14</span>\n",
      "<span class=\"slider-forward arrow\">&gt;</span>\n",
      "<div class=\"swipe\">\n",
      "<div class=\"swipe-wrap\"><div class=\"slide first visible\" data-imgid=\"iDdLMUCqtJB\" id=\"1_image_iDdLMUCqtJB\"><img alt=\" 1\" src=\"https://images.craigslist.org/00n0n_iDdLMUCqtJB_600x450.jpg\" title=\" 1\"/></div><div class=\"slide \" data-imgid=\"aekS86Dugbs\" id=\"2_image_aekS86Dugbs\"></div><div class=\"slide \" data-imgid=\"cYu4wN6giCt\" id=\"3_image_cYu4wN6giCt\"></div><div class=\"slide \" data-imgid=\"h7M5Ag6DAOv\" id=\"4_image_h7M5Ag6DAOv\"></div><div class=\"slide \" data-imgid=\"1wCFn0XwLlg\" id=\"5_image_1wCFn0XwLlg\"></div><div class=\"slide \" data-imgid=\"gUDvPvwWZ2u\" id=\"6_image_gUDvPvwWZ2u\"></div><div class=\"slide \" data-imgid=\"l3gLS56dLrw\" id=\"7_image_l3gLS56dLrw\"></div><div class=\"slide \" data-imgid=\"inIj39VgBa7\" id=\"8_image_inIj39VgBa7\"></div><div class=\"slide \" data-imgid=\"8IdV5Vaa0kN\" id=\"9_image_8IdV5Vaa0kN\"></div><div class=\"slide \" data-imgid=\"9F8l31VZga9\" id=\"10_image_9F8l31VZga9\"></div><div class=\"slide \" data-imgid=\"3q6IIBHE1OV\" id=\"11_image_3q6IIBHE1OV\"></div><div class=\"slide \" data-imgid=\"5Hzuz3xd8Rw\" id=\"12_image_5Hzuz3xd8Rw\"></div><div class=\"slide \" data-imgid=\"esCG82Mb5oF\" id=\"13_image_esCG82Mb5oF\"></div><div class=\"slide \" data-imgid=\"e7tAgdJFPQk\" id=\"14_image_e7tAgdJFPQk\"></div></div>\n",
      "</div>\n",
      "</div>\n",
      "<div id=\"thumbs\"><a class=\"thumb\" data-imgid=\"iDdLMUCqtJB\" href=\"https://images.craigslist.org/00n0n_iDdLMUCqtJB_600x450.jpg\" id=\"1_thumb_iDdLMUCqtJB\" title=\"1\"><img alt=\" 1\" class=\"selected\" src=\"https://images.craigslist.org/00n0n_iDdLMUCqtJB_50x50c.jpg\"/></a><a class=\"thumb\" data-imgid=\"aekS86Dugbs\" href=\"https://images.craigslist.org/00707_aekS86Dugbs_600x450.jpg\" id=\"2_thumb_aekS86Dugbs\" title=\"2\"><img alt=\" 2\" src=\"https://images.craigslist.org/00707_aekS86Dugbs_50x50c.jpg\"/></a><a class=\"thumb\" data-imgid=\"cYu4wN6giCt\" href=\"https://images.craigslist.org/00o0o_cYu4wN6giCt_600x450.jpg\" id=\"3_thumb_cYu4wN6giCt\" title=\"3\"><img alt=\" 3\" src=\"https://images.craigslist.org/00o0o_cYu4wN6giCt_50x50c.jpg\"/></a><a class=\"thumb\" data-imgid=\"h7M5Ag6DAOv\" href=\"https://images.craigslist.org/00n0n_h7M5Ag6DAOv_600x450.jpg\" id=\"4_thumb_h7M5Ag6DAOv\" title=\"4\"><img alt=\" 4\" src=\"https://images.craigslist.org/00n0n_h7M5Ag6DAOv_50x50c.jpg\"/></a><a class=\"thumb\" data-imgid=\"1wCFn0XwLlg\" href=\"https://images.craigslist.org/00e0e_1wCFn0XwLlg_600x450.jpg\" id=\"5_thumb_1wCFn0XwLlg\" title=\"5\"><img alt=\" 5\" src=\"https://images.craigslist.org/00e0e_1wCFn0XwLlg_50x50c.jpg\"/></a><a class=\"thumb\" data-imgid=\"gUDvPvwWZ2u\" href=\"https://images.craigslist.org/00N0N_gUDvPvwWZ2u_600x450.jpg\" id=\"6_thumb_gUDvPvwWZ2u\" title=\"6\"><img alt=\" 6\" src=\"https://images.craigslist.org/00N0N_gUDvPvwWZ2u_50x50c.jpg\"/></a><a class=\"thumb\" data-imgid=\"l3gLS56dLrw\" href=\"https://images.craigslist.org/00K0K_l3gLS56dLrw_600x450.jpg\" id=\"7_thumb_l3gLS56dLrw\" title=\"7\"><img alt=\" 7\" src=\"https://images.craigslist.org/00K0K_l3gLS56dLrw_50x50c.jpg\"/></a><a class=\"thumb\" data-imgid=\"inIj39VgBa7\" href=\"https://images.craigslist.org/00707_inIj39VgBa7_600x450.jpg\" id=\"8_thumb_inIj39VgBa7\" title=\"8\"><img alt=\" 8\" src=\"https://images.craigslist.org/00707_inIj39VgBa7_50x50c.jpg\"/></a><a class=\"thumb\" data-imgid=\"8IdV5Vaa0kN\" href=\"https://images.craigslist.org/00C0C_8IdV5Vaa0kN_600x450.jpg\" id=\"9_thumb_8IdV5Vaa0kN\" title=\"9\"><img alt=\" 9\" src=\"https://images.craigslist.org/00C0C_8IdV5Vaa0kN_50x50c.jpg\"/></a><a class=\"thumb\" data-imgid=\"9F8l31VZga9\" href=\"https://images.craigslist.org/00k0k_9F8l31VZga9_600x450.jpg\" id=\"10_thumb_9F8l31VZga9\" title=\"10\"><img alt=\" 10\" src=\"https://images.craigslist.org/00k0k_9F8l31VZga9_50x50c.jpg\"/></a><a class=\"thumb\" data-imgid=\"3q6IIBHE1OV\" href=\"https://images.craigslist.org/00404_3q6IIBHE1OV_600x450.jpg\" id=\"11_thumb_3q6IIBHE1OV\" title=\"11\"><img alt=\" 11\" src=\"https://images.craigslist.org/00404_3q6IIBHE1OV_50x50c.jpg\"/></a><a class=\"thumb\" data-imgid=\"5Hzuz3xd8Rw\" href=\"https://images.craigslist.org/00J0J_5Hzuz3xd8Rw_600x450.jpg\" id=\"12_thumb_5Hzuz3xd8Rw\" title=\"12\"><img alt=\" 12\" src=\"https://images.craigslist.org/00J0J_5Hzuz3xd8Rw_50x50c.jpg\"/></a><a class=\"thumb\" data-imgid=\"esCG82Mb5oF\" href=\"https://images.craigslist.org/00505_esCG82Mb5oF_600x450.jpg\" id=\"13_thumb_esCG82Mb5oF\" title=\"13\"><img alt=\" 13\" src=\"https://images.craigslist.org/00505_esCG82Mb5oF_50x50c.jpg\"/></a><a class=\"thumb\" data-imgid=\"e7tAgdJFPQk\" href=\"https://images.craigslist.org/01717_e7tAgdJFPQk_600x450.jpg\" id=\"14_thumb_e7tAgdJFPQk\" title=\"14\"><img alt=\" 14\" src=\"https://images.craigslist.org/01717_e7tAgdJFPQk_50x50c.jpg\"/></a></div>\n",
      "<script type=\"text/javascript\"><!--\n",
      "var imgList = [{\"shortid\":\"iDdLMUCqtJB\",\"url\":\"https://images.craigslist.org/00n0n_iDdLMUCqtJB_600x450.jpg\",\"thumb\":\"https://images.craigslist.org/00n0n_iDdLMUCqtJB_50x50c.jpg\",\"imgid\":\"1:00n0n_iDdLMUCqtJB\"},{\"shortid\":\"aekS86Dugbs\",\"url\":\"https://images.craigslist.org/00707_aekS86Dugbs_600x450.jpg\",\"thumb\":\"https://images.craigslist.org/00707_aekS86Dugbs_50x50c.jpg\",\"imgid\":\"1:00707_aekS86Dugbs\"},{\"shortid\":\"cYu4wN6giCt\",\"url\":\"https://images.craigslist.org/00o0o_cYu4wN6giCt_600x450.jpg\",\"thumb\":\"https://images.craigslist.org/00o0o_cYu4wN6giCt_50x50c.jpg\",\"imgid\":\"1:00o0o_cYu4wN6giCt\"},{\"shortid\":\"h7M5Ag6DAOv\",\"url\":\"https://images.craigslist.org/00n0n_h7M5Ag6DAOv_600x450.jpg\",\"thumb\":\"https://images.craigslist.org/00n0n_h7M5Ag6DAOv_50x50c.jpg\",\"imgid\":\"1:00n0n_h7M5Ag6DAOv\"},{\"shortid\":\"1wCFn0XwLlg\",\"url\":\"https://images.craigslist.org/00e0e_1wCFn0XwLlg_600x450.jpg\",\"thumb\":\"https://images.craigslist.org/00e0e_1wCFn0XwLlg_50x50c.jpg\",\"imgid\":\"1:00e0e_1wCFn0XwLlg\"},{\"shortid\":\"gUDvPvwWZ2u\",\"url\":\"https://images.craigslist.org/00N0N_gUDvPvwWZ2u_600x450.jpg\",\"thumb\":\"https://images.craigslist.org/00N0N_gUDvPvwWZ2u_50x50c.jpg\",\"imgid\":\"1:00N0N_gUDvPvwWZ2u\"},{\"shortid\":\"l3gLS56dLrw\",\"url\":\"https://images.craigslist.org/00K0K_l3gLS56dLrw_600x450.jpg\",\"thumb\":\"https://images.craigslist.org/00K0K_l3gLS56dLrw_50x50c.jpg\",\"imgid\":\"1:00K0K_l3gLS56dLrw\"},{\"shortid\":\"inIj39VgBa7\",\"url\":\"https://images.craigslist.org/00707_inIj39VgBa7_600x450.jpg\",\"thumb\":\"https://images.craigslist.org/00707_inIj39VgBa7_50x50c.jpg\",\"imgid\":\"1:00707_inIj39VgBa7\"},{\"shortid\":\"8IdV5Vaa0kN\",\"url\":\"https://images.craigslist.org/00C0C_8IdV5Vaa0kN_600x450.jpg\",\"thumb\":\"https://images.craigslist.org/00C0C_8IdV5Vaa0kN_50x50c.jpg\",\"imgid\":\"1:00C0C_8IdV5Vaa0kN\"},{\"shortid\":\"9F8l31VZga9\",\"url\":\"https://images.craigslist.org/00k0k_9F8l31VZga9_600x450.jpg\",\"thumb\":\"https://images.craigslist.org/00k0k_9F8l31VZga9_50x50c.jpg\",\"imgid\":\"1:00k0k_9F8l31VZga9\"},{\"shortid\":\"3q6IIBHE1OV\",\"url\":\"https://images.craigslist.org/00404_3q6IIBHE1OV_600x450.jpg\",\"thumb\":\"https://images.craigslist.org/00404_3q6IIBHE1OV_50x50c.jpg\",\"imgid\":\"1:00404_3q6IIBHE1OV\"},{\"shortid\":\"5Hzuz3xd8Rw\",\"url\":\"https://images.craigslist.org/00J0J_5Hzuz3xd8Rw_600x450.jpg\",\"thumb\":\"https://images.craigslist.org/00J0J_5Hzuz3xd8Rw_50x50c.jpg\",\"imgid\":\"1:00J0J_5Hzuz3xd8Rw\"},{\"shortid\":\"esCG82Mb5oF\",\"url\":\"https://images.craigslist.org/00505_esCG82Mb5oF_600x450.jpg\",\"thumb\":\"https://images.craigslist.org/00505_esCG82Mb5oF_50x50c.jpg\",\"imgid\":\"1:00505_esCG82Mb5oF\"},{\"shortid\":\"e7tAgdJFPQk\",\"url\":\"https://images.craigslist.org/01717_e7tAgdJFPQk_600x450.jpg\",\"thumb\":\"https://images.craigslist.org/01717_e7tAgdJFPQk_50x50c.jpg\",\"imgid\":\"1:01717_e7tAgdJFPQk\"}];\n",
      "--></script>\n",
      "</figure>\n",
      "<div class=\"mapAndAttrs\">\n",
      "<div class=\"mapbox\">\n",
      "<div class=\"viewposting\" data-accuracy=\"22\" data-latitude=\"45.507800\" data-longitude=\"-122.689700\" id=\"map\"></div>\n",
      "<p class=\"mapaddress\">\n",
      "<small>\n",
      "        (<a href=\"https://maps.google.com/maps/preview/@45.507800,-122.689700,16z\" target=\"_blank\">google map</a>)\n",
      "        </small>\n",
      "</p>\n",
      "</div><p class=\"attrgroup\"><span><b>1</b>BR / <b>1</b>Ba</span> <span><b>581</b>ft<sup>2</sup></span> <span class=\"housing_movein_now property_date\" date=\"2016-08-03\" today_msg=\"available now\">available aug 03</span></p><p class=\"attrgroup\"><span>condo</span><br><span>w/d in unit</span><br/></br></p> <div class=\"no-mobile\">\n",
      "<div id=\"printcontact\"></div><p>\n",
      "<div data-location=\"http://portland.craigslist.org/mlt/apa/5715121196.html\" id=\"qrcode\"></div>\n",
      "</p></div>\n",
      "</div>\n",
      "<section id=\"postingbody\">\n",
      "Showing Instructions: To schedule a showing in this competitive rental market, just click the green \"Schedule Showing\" button on our website to quickly request a showing. It's as easy as 1,2,3. <br>\n",
      "<br>\n",
      "Get the charm and character of a historic building with all the amenities of new construction in this newly renovated condo, just blocks from downtown Portland! <br>\n",
      "<br>\n",
      "This beautiful Condo offers one bedroom, one full bath and includes a in-unit washer/dryer and assigned parking space #3. The unit is located in a small condo community that provides a secure intercom entrance and a reserved off-street parking. The historic building recently underwent a complete renovation that included new plumbing, electric wiring, and efficient Energy Star windows. <br>\n",
      "<br>\n",
      "The condo includes an electric fireplace, electric heat, a new hot-water heater, refinished hardwood floors, and historic touches like a claw-foot bathtub, original built-in cabinets, and beautiful tile work in the bathroom. The fully updated gourmet kitchen includes granite counter-tops, cherry cabinets, brand-new stainless-steel appliances, a gas stove, a full-sized refrigerator and a garbage disposal. Incredible amenities in a historic building! <br>\n",
      "<br>\n",
      "Located just outside downtown, it sits blocks from PSU's campus, providing easy access to all downtown has to offer, including the world-class Portland Farmer's Market, Tom McCall Waterfront Park, Keller Auditorium, and some of Portland's finest restaurants. It's also near the South Waterfront, several city parks, and the scenic trails of Terwilliger and Marquam Nature Park. <br>\n",
      "<br>\n",
      "With a walk score of 91 and plenty of public transportation options (MAX, streetcar, and bus lines!), it's urban living at its finest. Plus, with easy to access to all of Portland's major freeways, this centrally located home is convenient to all major employers in the area, including OHSU, Emanuel Medical Center, Good Samaritan Medical Center, Nike, Intel, St. Vincent Medical Center, and Adidas. <br>\n",
      "<br>\n",
      "It's also convenient to major area attractions, including the Pearl District, Washington Park, the Oregon Zoo, OMSI, and much more. Downtown feeds into some of Portland's top-rated schools. <br>\n",
      "<br>\n",
      "Available October 1, 2016 for a twelve month lease, with an option to renew. For additional information about this home, please contact us at \n",
      " <a class=\"showcontact\" href=\"/fb/pdx/apa/5715121196\" rel=\"nofollow\" title=\"click to show contact info\">show contact info</a>\n",
      "or visit our website at www.propMHomes.com to view all of our current rentals. We are the premier Portland Property Management Company. <br>\n",
      "<br>\n",
      "Rental Criteria: Good credit, good rental history, income three times the rent or more per month and no criminal record. <br>\n",
      "<br>\n",
      "Application Fee: $60 Per Adult <br>\n",
      "<br>\n",
      "Included in Rent: Water, Sewer and Garbage <br>\n",
      "<br>\n",
      "Heating Source: Forced Air <br>\n",
      "Parking: Assigned Park Space #3 Included <br>\n",
      "<br>\n",
      "Furnished: No <br>\n",
      "<br>\n",
      "Pets: Negotiable <br>\n",
      "<br>\n",
      "Elementary School: Ainsworth <br>\n",
      "Middle School: West Sylvan <br>\n",
      "High School: Lincoln <br>\n",
      "<br>\n",
      "Disclaimer: All information, regardless of source, is not guaranteed and should be independently verified.    </br></br></br></br></br></br></br></br></br></br></br></br></br></br></br></br></br></br></br></br></br></br></br></br></br></br></br></br></br></br></br></br></br></section>\n",
      "<ul class=\"notices\"><li>do NOT contact me with unsolicited services or offers</li></ul>\n",
      "<div class=\"postinginfos\">\n",
      "<p class=\"postinginfo\">post id: 5715121196</p>\n",
      "<p class=\"postinginfo reveal\">posted: <time class=\"timeago\" datetime=\"2016-08-03T14:46:10-0700\">2016-08-03  2:46pm</time></p>\n",
      "<p class=\"postinginfo reveal\">updated: <time class=\"timeago\" datetime=\"2016-08-31T14:35:13-0700\">2016-08-31  2:35pm</time></p>\n",
      "<p class=\"postinginfo\">\n",
      "<a class=\"tsb\" href=\"https://accounts.craigslist.org/eaf?postingID=5715121196&amp;token=U2FsdGVkX184MDU2ODA1Nj1eeA1dZBxcDmv2oUdOxTsP8wVbj8RUi6HgjRMYXQT_nvQPf5rxesBkhqE8kUwigmjhJeAdoPiR\">email to friend</a>\n",
      "</p>\n",
      "<p class=\"postinginfo\">\n",
      "<a class=\"bestof-link\" data-flag=\"9\" href=\"https://post.craigslist.org/flag?flagCode=9&amp;postingID=5715121196&amp;\" title=\"nominate for best-of-CL\">\n",
      "<span class=\"bestof-icon\">♥ </span><span class=\"bestof-text\">best of</span>\n",
      "</a> <sup>[<a href=\"http://www.craigslist.org/about/best-of-craigslist\">?</a>]</sup>\n",
      "</p>\n",
      "</div>\n",
      "<div id=\"printpics\"></div>\n",
      "</section>\n",
      "<div class=\"no-mobile\">\n",
      "<aside class=\"tsb\">\n",
      "    Please flag\n",
      "    <a href=\"//www.craigslist.org/about/FHA\">discriminatory housing ads</a>\n",
      "</aside>\n",
      "<aside class=\"tsb\">\n",
      "<a href=\"//www.craigslist.org/about/scams\">Avoid scams, deal locally!</a>\n",
      "<em>DO NOT wire funds (e.g. Western Union)</em>, or buy/rent sight unseen\n",
      "</aside>\n",
      "</div>\n",
      "<div class=\"mobile-only\">\n",
      "</div>\n",
      "</section>\n",
      "<footer>\n",
      "<ul class=\"clfooter\">\n",
      "<li>© 2016 <span class=\"desktop\">craigslist</span><span class=\"mobile\">CL</span></li>\n",
      "<li><a href=\"//www.craigslist.org/about/help/\">help</a></li>\n",
      "<li><a href=\"//www.craigslist.org/about/scams\">safety</a></li>\n",
      "<li class=\"desktop\"><a href=\"//www.craigslist.org/about/privacy.policy\">privacy</a></li>\n",
      "<li class=\"desktop\"><a href=\"https://forums.craigslist.org/?forumID=8\">feedback</a></li>\n",
      "<li class=\"desktop\"><a href=\"//www.craigslist.org/about/craigslist_is_hiring\">cl jobs</a></li>\n",
      "<li><a href=\"//www.craigslist.org/about/terms.of.use.en\">terms</a></li>\n",
      "<li><a href=\"//www.craigslist.org/about/\">about</a></li>\n",
      "<li class=\"fsel desktop linklike\" data-mode=\"mobile\">mobile</li>\n",
      "<li class=\"fsel mobile linklike\" data-mode=\"regular\">desktop</li>\n",
      "</ul>\n",
      "</footer>\n",
      "</section>\n",
      "<script type=\"text/javascript\"><!--\n",
      "var countOfTotalText = \"image {count} of {total}\";\n",
      "var imageHost = \"https://images.craigslist.org\";\n",
      "var maptileBaseUrl = \"//map{s}.craigslist.org/t09/{z}/{x}/{y}.png\";\n",
      "var pID = \"5715121196\";\n",
      "--></script>\n",
      "<script src=\"//www.craigslist.org/js/general-concat.min.js?v=be357f66610c180cdcb19885af821ef0\" type=\"text/javascript\"></script>\n",
      "<script type=\"text/javascript\"><!--\n",
      "        var iframe = document.createElement('iframe');\n",
      "        iframe.style.display = 'none';\n",
      "        iframe.src = '//www.' + CL.url.baseDomain + '/static/localstorage.html?v=51a29e41f8e978141e4085ed4a77d170';\n",
      "        document.body.insertBefore(iframe, null);\n",
      "    --></script>\n",
      "<script src=\"//www.craigslist.org/js/leaflet-concat.min.js?v=99342ca2e724a94a467ce3d92f15def4\" type=\"text/javascript\"></script>\n",
      "<script src=\"//www.craigslist.org/js/postings-concat.min.js?v=fa24a444d1d09fbf00612e8074ca2b50\" type=\"text/javascript\"></script>\n",
      "</body>\n",
      "</html>\n"
     ]
    },
    {
     "name": "stderr",
     "output_type": "stream",
     "text": [
      "/Users/mac28/anaconda/envs/py35/lib/python3.5/site-packages/bs4/__init__.py:181: UserWarning: No parser was explicitly specified, so I'm using the best available HTML parser for this system (\"html.parser\"). This usually isn't a problem, but if you run this code on another system, or in a different virtual environment, it may use a different parser and behave differently.\n",
      "\n",
      "The code that caused this warning is on line 184 of the file /Users/mac28/anaconda/envs/py35/lib/python3.5/runpy.py. To get rid of this warning, change code that looks like this:\n",
      "\n",
      " BeautifulSoup([your markup])\n",
      "\n",
      "to this:\n",
      "\n",
      " BeautifulSoup([your markup], \"html.parser\")\n",
      "\n",
      "  markup_type=markup_type))\n"
     ]
    }
   ],
   "source": [
    "result = requests.get(url)\n",
    "c = result.content\n",
    "soup = BeautifulSoup(c)\n",
    "print(type(soup))\n",
    "print(soup)"
   ]
  },
  {
   "cell_type": "markdown",
   "metadata": {},
   "source": [
    "### So now how do we find the information in this mess?\n",
    "\n",
    "* Use HTML inspection tools. I've been using firebug, but there are many others out there.\n"
   ]
  },
  {
   "cell_type": "code",
   "execution_count": 7,
   "metadata": {
    "collapsed": false
   },
   "outputs": [
    {
     "name": "stdout",
     "output_type": "stream",
     "text": [
      "<span class=\"price\">$1595</span>\n"
     ]
    }
   ],
   "source": [
    "summary = soup.find(\"span\",{'class':'price'})\n",
    "\n",
    "print(summary)\n"
   ]
  },
  {
   "cell_type": "code",
   "execution_count": 8,
   "metadata": {
    "collapsed": false
   },
   "outputs": [
    {
     "name": "stdout",
     "output_type": "stream",
     "text": [
      "$1595\n"
     ]
    }
   ],
   "source": [
    "if summary == None:\n",
    "    print(np.nan)\n",
    "else:\n",
    "    text = summary.find(text=True)\n",
    "    print(text)"
   ]
  },
  {
   "cell_type": "markdown",
   "metadata": {},
   "source": [
    "So eventually you can create a function that looks something like this."
   ]
  },
  {
   "cell_type": "code",
   "execution_count": 9,
   "metadata": {
    "collapsed": false
   },
   "outputs": [],
   "source": [
    "def get_price(id_number):\n",
    "    url = 'https://portland.craigslist.org/mlt/apa'+'/'+id_number+'.html'\n",
    "\n",
    "    result = requests.get(url)\n",
    "    c = result.content\n",
    "    soup = BeautifulSoup(c,'html.parser')\n",
    "\n",
    "    summary = soup.find(\"span\",{'class':'price'})\n",
    "    if summary == None:\n",
    "        return(np.nan)\n",
    "    else:\n",
    "        text = summary.find(text=True)\n",
    "        return(text)"
   ]
  },
  {
   "cell_type": "code",
   "execution_count": 10,
   "metadata": {
    "collapsed": false
   },
   "outputs": [
    {
     "data": {
      "text/plain": [
       "'$1595'"
      ]
     },
     "execution_count": 10,
     "metadata": {},
     "output_type": "execute_result"
    }
   ],
   "source": [
    "get_price('5715121196')"
   ]
  },
  {
   "cell_type": "markdown",
   "metadata": {},
   "source": [
    "Now that we know how to get ONE piece of info, we can repeat the process on many of them.\n",
    "\n",
    "Riley - \n",
    "* Show how many functions I worked on\n",
    "* Show final Script\n"
   ]
  },
  {
   "cell_type": "code",
   "execution_count": null,
   "metadata": {
    "collapsed": true
   },
   "outputs": [],
   "source": []
  }
 ],
 "metadata": {
  "kernelspec": {
   "display_name": "Python 3",
   "language": "python",
   "name": "python3"
  },
  "language_info": {
   "codemirror_mode": {
    "name": "ipython",
    "version": 3
   },
   "file_extension": ".py",
   "mimetype": "text/x-python",
   "name": "python",
   "nbconvert_exporter": "python",
   "pygments_lexer": "ipython3",
   "version": "3.5.2"
  }
 },
 "nbformat": 4,
 "nbformat_minor": 0
}
