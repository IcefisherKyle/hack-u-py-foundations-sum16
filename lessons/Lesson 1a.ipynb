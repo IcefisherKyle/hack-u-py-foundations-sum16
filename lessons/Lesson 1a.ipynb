{
 "cells": [
  {
   "cell_type": "markdown",
   "metadata": {},
   "source": [
    "# Lesson 1a - Intro/Motivations\n",
    "\n",
    "Why Python? Motivations? What are you looking to get out of this class?\n",
    "\n",
    "![](../images/xkcd.png)"
   ]
  },
  {
   "cell_type": "markdown",
   "metadata": {},
   "source": [
    "### “Python is the second best at everything”\n",
    "\n",
    "* Build websites - Django \n",
    "https://www.djangoproject.com/start/overview/\n",
    "* Make Games - PyGame http://www.pygame.org/hifi.html\n",
    "* Popular in Sciences - scipy, numpy, matplotlib http://matplotlib.org/gallery.html\n",
    "* Creative coding - http://www.meetup.com/PDX-Creative-Coders/\n",
    "* Data Science - http://scikit-learn.org/\n"
   ]
  },
  {
   "cell_type": "markdown",
   "metadata": {},
   "source": [
    "### Why Python?\n",
    "1. Friendly and helpful community\n",
    "2. Human readability\n",
    "3. General accessibility to beginners\n",
    "4. It's been around a long time, so there's many many resources to help you get started\n",
    "5. It's about second best at everything. If you're trying to do one specific thing, it's probably better to learn another language. But since most software does more than one thing, python is becoming incredibly popular.\n",
    "6. It's gaining popularity\n",
    "\n",
    "![](../images/LanguageTrends.png)\n",
    "\n",
    "source: http://www.indeed.com/jobtrends/q-Java-q-PHP-q-Perl-q-.Net-q-Python-q-JavaScript.html?relative=1"
   ]
  },
  {
   "cell_type": "markdown",
   "metadata": {},
   "source": [
    "# Python 2 vs Python 3\n",
    "\n",
    "> Short version: Python 2.x is legacy, Python 3.x is the present and future of the language\n",
    "\n",
    "source: https://wiki.python.org/moin/Python2orPython3\n",
    "\n",
    "### Python 2\n",
    "* Started in 2000\n",
    "* 2.7 written in 2010\n",
    "* Will loose support in 2020(security updates, backported features, etc)Riley Note: Python 2 will continue to work, it just won't be updated\n",
    "\n",
    "### Python 3\n",
    "* Released in 2008\n",
    "* 3.5 released in 2015\n",
    "* Initially wasn't supported by many libraries, but that's changing as more people adopt Python 3\n",
    "\n",
    "### Which Do We Choose?\n",
    "![](../images/steve.gif)\n",
    "\n",
    "### Both!... sort of.\n",
    "\n",
    "We'll be writing our code in Python 3. Why?\n",
    "* Build good habits\n",
    "* Python 3 is expected to overtake Python 2 in popularity by the end of 2016 ([source](https://www.jetbrains.com/pycharm/python-developers-survey-2016/))\n",
    "* Almost all [major libraries](https://python3wos.appspot.com/) are now supported by Python 3, which hasn't always been the case\n",
    "* Hack Oregon is transitioning to Python 3.\n",
    "* Most companies that use python have their code base in Python 2, but likely are transitioning to Python 3. If you were hired today, you'd be expected to know both. \n",
    "\n",
    "### Course materials will note when there is a difference.\n",
    "# <font color='red'>Python 2!</font>\n",
    "Followed by an explanation of the effective difference between versions and how to use them.\n",
    "\n",
    "\n",
    "\n",
    "##### Tip: there are libraries to automatically convert your code from one version to the other appropriately named 2to3 and 3to2 \n",
    "***"
   ]
  },
  {
   "cell_type": "markdown",
   "metadata": {},
   "source": [
    " # Integrated Development Environments (IDEs)\n",
    " \n",
    "IDLE through command line that we saw before. (anaconda command prompt or terminal)\n",
    "* Enter ```Python``` to access\n",
    "\n",
    "##### Text Editors\n",
    "* write scripts, and larger programs\n",
    "* then run them in the command line\n",
    "\n",
    "##### Options\n",
    "* notepad\n",
    "* vim\n",
    "* Sublime is my favorite, check out [tools](https://github.com/hackoregon/hack-u-py-foundations-sum16/blob/master/resources/tools.md) for more options\n",
    "\n",
    "###### We'll be using Jupyter\n",
    "Also previously known as iPython Notebooks, which you've hopefully already seen by this point.\n",
    "* You run code line by line, and see each output\n",
    "* Super easy to share to and download from github\n",
    "* Also super great for data science, and data analysis\n",
    "* Developers often use it to write pieces of their projects"
   ]
  },
  {
   "cell_type": "markdown",
   "metadata": {},
   "source": [
    "# Jupyter Notebooks!\n",
    "we're in one!!!\n",
    "\n",
    "You can view Jupyter Notebooks on Github, but you can't run them. you can run them on your computer or in your browser.\n",
    "\n",
    "### Process\n",
    "\n",
    "no need to start python\n",
    "start python in whichever directory the file you want to access is in.\n",
    "\n",
    "I suggest using Firefox or Chrome. Not all browsers are supported"
   ]
  },
  {
   "cell_type": "code",
   "execution_count": 4,
   "metadata": {
    "collapsed": false
   },
   "outputs": [
    {
     "name": "stdout",
     "output_type": "stream",
     "text": [
      "Hello World!\n"
     ]
    }
   ],
   "source": [
    "# use run button\n",
    "print ('Hello World!')"
   ]
  },
  {
   "cell_type": "code",
   "execution_count": 5,
   "metadata": {
    "collapsed": false
   },
   "outputs": [
    {
     "name": "stdout",
     "output_type": "stream",
     "text": [
      "Hello World!\n"
     ]
    }
   ],
   "source": [
    "# use shift + enter\n",
    "print('Hello World!')"
   ]
  },
  {
   "cell_type": "code",
   "execution_count": 7,
   "metadata": {
    "collapsed": true
   },
   "outputs": [],
   "source": [
    "# Mess with toolbar "
   ]
  },
  {
   "cell_type": "code",
   "execution_count": 8,
   "metadata": {
    "collapsed": true
   },
   "outputs": [],
   "source": [
    "# Keeps track of order that you ran cells in \n",
    "# can kill kernel if something goes wrong"
   ]
  },
  {
   "cell_type": "code",
   "execution_count": 9,
   "metadata": {
    "collapsed": true
   },
   "outputs": [],
   "source": [
    "# Tab autocomplete"
   ]
  },
  {
   "cell_type": "code",
   "execution_count": 20,
   "metadata": {
    "collapsed": true
   },
   "outputs": [],
   "source": [
    "hello = ['hello world']"
   ]
  },
  {
   "cell_type": "code",
   "execution_count": 21,
   "metadata": {
    "collapsed": false
   },
   "outputs": [
    {
     "data": {
      "text/plain": [
       "['hello world']"
      ]
     },
     "execution_count": 21,
     "metadata": {},
     "output_type": "execute_result"
    }
   ],
   "source": [
    "hello"
   ]
  },
  {
   "cell_type": "code",
   "execution_count": 22,
   "metadata": {
    "collapsed": false
   },
   "outputs": [
    {
     "name": "stdout",
     "output_type": "stream",
     "text": [
      "Help on list object:\n",
      "\n",
      "class list(object)\n",
      " |  list() -> new empty list\n",
      " |  list(iterable) -> new list initialized from iterable's items\n",
      " |  \n",
      " |  Methods defined here:\n",
      " |  \n",
      " |  __add__(...)\n",
      " |      x.__add__(y) <==> x+y\n",
      " |  \n",
      " |  __contains__(...)\n",
      " |      x.__contains__(y) <==> y in x\n",
      " |  \n",
      " |  __delitem__(...)\n",
      " |      x.__delitem__(y) <==> del x[y]\n",
      " |  \n",
      " |  __delslice__(...)\n",
      " |      x.__delslice__(i, j) <==> del x[i:j]\n",
      " |      \n",
      " |      Use of negative indices is not supported.\n",
      " |  \n",
      " |  __eq__(...)\n",
      " |      x.__eq__(y) <==> x==y\n",
      " |  \n",
      " |  __ge__(...)\n",
      " |      x.__ge__(y) <==> x>=y\n",
      " |  \n",
      " |  __getattribute__(...)\n",
      " |      x.__getattribute__('name') <==> x.name\n",
      " |  \n",
      " |  __getitem__(...)\n",
      " |      x.__getitem__(y) <==> x[y]\n",
      " |  \n",
      " |  __getslice__(...)\n",
      " |      x.__getslice__(i, j) <==> x[i:j]\n",
      " |      \n",
      " |      Use of negative indices is not supported.\n",
      " |  \n",
      " |  __gt__(...)\n",
      " |      x.__gt__(y) <==> x>y\n",
      " |  \n",
      " |  __iadd__(...)\n",
      " |      x.__iadd__(y) <==> x+=y\n",
      " |  \n",
      " |  __imul__(...)\n",
      " |      x.__imul__(y) <==> x*=y\n",
      " |  \n",
      " |  __init__(...)\n",
      " |      x.__init__(...) initializes x; see help(type(x)) for signature\n",
      " |  \n",
      " |  __iter__(...)\n",
      " |      x.__iter__() <==> iter(x)\n",
      " |  \n",
      " |  __le__(...)\n",
      " |      x.__le__(y) <==> x<=y\n",
      " |  \n",
      " |  __len__(...)\n",
      " |      x.__len__() <==> len(x)\n",
      " |  \n",
      " |  __lt__(...)\n",
      " |      x.__lt__(y) <==> x<y\n",
      " |  \n",
      " |  __mul__(...)\n",
      " |      x.__mul__(n) <==> x*n\n",
      " |  \n",
      " |  __ne__(...)\n",
      " |      x.__ne__(y) <==> x!=y\n",
      " |  \n",
      " |  __repr__(...)\n",
      " |      x.__repr__() <==> repr(x)\n",
      " |  \n",
      " |  __reversed__(...)\n",
      " |      L.__reversed__() -- return a reverse iterator over the list\n",
      " |  \n",
      " |  __rmul__(...)\n",
      " |      x.__rmul__(n) <==> n*x\n",
      " |  \n",
      " |  __setitem__(...)\n",
      " |      x.__setitem__(i, y) <==> x[i]=y\n",
      " |  \n",
      " |  __setslice__(...)\n",
      " |      x.__setslice__(i, j, y) <==> x[i:j]=y\n",
      " |      \n",
      " |      Use  of negative indices is not supported.\n",
      " |  \n",
      " |  __sizeof__(...)\n",
      " |      L.__sizeof__() -- size of L in memory, in bytes\n",
      " |  \n",
      " |  append(...)\n",
      " |      L.append(object) -- append object to end\n",
      " |  \n",
      " |  count(...)\n",
      " |      L.count(value) -> integer -- return number of occurrences of value\n",
      " |  \n",
      " |  extend(...)\n",
      " |      L.extend(iterable) -- extend list by appending elements from the iterable\n",
      " |  \n",
      " |  index(...)\n",
      " |      L.index(value, [start, [stop]]) -> integer -- return first index of value.\n",
      " |      Raises ValueError if the value is not present.\n",
      " |  \n",
      " |  insert(...)\n",
      " |      L.insert(index, object) -- insert object before index\n",
      " |  \n",
      " |  pop(...)\n",
      " |      L.pop([index]) -> item -- remove and return item at index (default last).\n",
      " |      Raises IndexError if list is empty or index is out of range.\n",
      " |  \n",
      " |  remove(...)\n",
      " |      L.remove(value) -- remove first occurrence of value.\n",
      " |      Raises ValueError if the value is not present.\n",
      " |  \n",
      " |  reverse(...)\n",
      " |      L.reverse() -- reverse *IN PLACE*\n",
      " |  \n",
      " |  sort(...)\n",
      " |      L.sort(cmp=None, key=None, reverse=False) -- stable sort *IN PLACE*;\n",
      " |      cmp(x, y) -> -1, 0, 1\n",
      " |  \n",
      " |  ----------------------------------------------------------------------\n",
      " |  Data and other attributes defined here:\n",
      " |  \n",
      " |  __hash__ = None\n",
      " |  \n",
      " |  __new__ = <built-in method __new__ of type object>\n",
      " |      T.__new__(S, ...) -> a new object with type S, a subtype of T\n",
      "\n"
     ]
    }
   ],
   "source": [
    "help(hello)"
   ]
  },
  {
   "cell_type": "code",
   "execution_count": 23,
   "metadata": {
    "collapsed": true
   },
   "outputs": [],
   "source": [
    "# This is a comment"
   ]
  },
  {
   "cell_type": "code",
   "execution_count": 24,
   "metadata": {
    "collapsed": false
   },
   "outputs": [
    {
     "data": {
      "text/plain": [
       "['hello world']"
      ]
     },
     "execution_count": 24,
     "metadata": {},
     "output_type": "execute_result"
    }
   ],
   "source": [
    "'''\n",
    "This is another type of comment\n",
    "that\n",
    "can\n",
    "take up \n",
    "multiple \n",
    "lines\n",
    "'''\n",
    "hello"
   ]
  },
  {
   "cell_type": "markdown",
   "metadata": {},
   "source": [
    "Or use markdown"
   ]
  },
  {
   "cell_type": "code",
   "execution_count": null,
   "metadata": {
    "collapsed": true
   },
   "outputs": [],
   "source": []
  }
 ],
 "metadata": {
  "kernelspec": {
   "display_name": "Python 2",
   "language": "python",
   "name": "python2"
  },
  "language_info": {
   "codemirror_mode": {
    "name": "ipython",
    "version": 2
   },
   "file_extension": ".py",
   "mimetype": "text/x-python",
   "name": "python",
   "nbconvert_exporter": "python",
   "pygments_lexer": "ipython2",
   "version": "2.7.11"
  }
 },
 "nbformat": 4,
 "nbformat_minor": 0
}
