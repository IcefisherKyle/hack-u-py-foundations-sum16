{
 "cells": [
  {
   "cell_type": "markdown",
   "metadata": {},
   "source": [
    "# Python Foundations\n",
    "---\n",
    "**Summer 2016** - (July 19th - September 15th) Class Break: mid August\n",
    "\n",
    "**OMSI Fish Bowl** - 945 SE Water Ave, Portland, OR 97214\n",
    "Mondays and Wednesdays 6-9PM\n",
    "\n",
    "**Instructor:** Riley Rustad riley+python@hackorgeon.org\t831-917-3567\n",
    "\n",
    "**Office Hours:**\tTBD\n",
    "***\n",
    "## Aims and Outcomes\n",
    "1. Feel confident enough to take a more specialized Python Course, and contribute to a Hack Oregon Project.\n",
    "2. Develop a lifelong love of programming.\n",
    "3. Feel comfortable putting \"proficient in Python\" on your CV.\n",
    "4. Read, undserstand, and write beautiful Python code.\n",
    "5. Develop a Gitub Portfolio to show off what you've built.\n",
    "6. Join the Hack Oregon community of professionals, students, events, and communications that will help your career and the state of Oregon.\n",
    "\n",
    "## Core Principles\n",
    "* **Learn by doing** - Project work and getting your hands dirty is essential to you learning to code. Each class period will be split between lecture and projects.\n",
    "* **Learn from analogies** - Programming concepts can be complicated. Simple relatable examples will help you understand what you need to know\n",
    "* **Learn to “Fish”** - Our course only lasts 8 weeks, and there’s no way to cover all of Python. I will teach you the skills to continue learning beyond “Python Foundations”\n",
    "* **80/20** - “80% of the effect is from 20% of the causes” I’ll try to teach you the 20% that will give you 80% of the functionality of Python.\n",
    "\n",
    "### Who is this course for?\n",
    "* Beginners who have never programmed\n",
    "* Programmers coming in from another language or refresh their Python\n",
    "***\n",
    "# Curriculum Overview\n",
    "\n",
    "- Lesson 0 - Setup\n",
    "- Lesson 1 - Motivations/Background/Basic Data Types\n",
    "- Lesson 2 - More Basic *Data Types*\n",
    "\n",
    "## Specific Learning Outcomes \n",
    "(what you can tell your current/future employers)\n",
    "\n",
    "Learn object/data structure basics, Basic opperators,statements, methods and functions, Object Oreinted Programming, Errors and Exception Handling, Using/Creating Modules, built-in Functions, decorators, generators. Also, include instruction on getting \"unstuck\" in the process of learning to fish. Create a project that builds upon your knowledge throughout, and use Git/GitHub to display your work.\n",
    "***\n",
    "### Certificate of Completion\n",
    "Certificates are distributed via an open sourced badging program, [badgr.io](http://www.badgr.io), which is compliant with [Mozilla Open Badges](http://openbadges.org/) the current industry recgognized leader for verifiable digital credentials.\n",
    "\n",
    "#### Grading Policy\n",
    "Badges will be issued based upon attendance and participation in class. No more than 3 absences will be allowed, no more than 2 being unexcused. If you must miss class, please contact me, and we'll schedule a time to catch you up.\n",
    "***\n",
    "## Python 2 vs Python 3\n",
    "> \"Short version: Python 2.x is legacy, Python 3.x is the present and future of the language\"\n",
    "\n",
    "[source](https://wiki.python.org/moin/Python2orPython3)\n",
    "#### Python 2\n",
    "* Came out in 2000\n",
    "* The latest version 2.7 was released in 2010\n",
    "* Will lose support in 2020\n",
    "\n",
    "#### Python 3\n",
    "* Was released in 2008\n",
    "* More libraries are beginning to support python 3, but not all (good way to contribute to open source)\n",
    "\n",
    "#### Which will we choose?\n",
    "\n",
    "![](images/steve.gif)\n",
    "\n",
    "#### Both! ...sort of\n",
    "* We'll use 2.7, since if you were going to get a job today, that's likely what you'd be using\n",
    "* Organizations still have Python 2 in code base, which means if you were to get hired tomorrow, you'd likely have to program in 2.7\n",
    "\n",
    "#### Can I still learn 3?\n",
    "* We will teach you the effective differences along the way, so you'll recognize and be able to code in python 3, and how to convert python 2 to 3\n"
   ]
  },
  {
   "cell_type": "markdown",
   "metadata": {},
   "source": [
    "Some Fun for those that kept reading, execute the next line! (shift + enter)"
   ]
  },
  {
   "cell_type": "code",
   "execution_count": 2,
   "metadata": {
    "collapsed": false
   },
   "outputs": [
    {
     "name": "stdout",
     "output_type": "stream",
     "text": [
      "The Zen of Python, by Tim Peters\n",
      "\n",
      "Beautiful is better than ugly.\n",
      "Explicit is better than implicit.\n",
      "Simple is better than complex.\n",
      "Complex is better than complicated.\n",
      "Flat is better than nested.\n",
      "Sparse is better than dense.\n",
      "Readability counts.\n",
      "Special cases aren't special enough to break the rules.\n",
      "Although practicality beats purity.\n",
      "Errors should never pass silently.\n",
      "Unless explicitly silenced.\n",
      "In the face of ambiguity, refuse the temptation to guess.\n",
      "There should be one-- and preferably only one --obvious way to do it.\n",
      "Although that way may not be obvious at first unless you're Dutch.\n",
      "Now is better than never.\n",
      "Although never is often better than *right* now.\n",
      "If the implementation is hard to explain, it's a bad idea.\n",
      "If the implementation is easy to explain, it may be a good idea.\n",
      "Namespaces are one honking great idea -- let's do more of those!\n"
     ]
    }
   ],
   "source": [
    "import this"
   ]
  },
  {
   "cell_type": "code",
   "execution_count": null,
   "metadata": {
    "collapsed": true
   },
   "outputs": [],
   "source": []
  }
 ],
 "metadata": {
  "kernelspec": {
   "display_name": "Python 2",
   "language": "python",
   "name": "python2"
  },
  "language_info": {
   "codemirror_mode": {
    "name": "ipython",
    "version": 2
   },
   "file_extension": ".py",
   "mimetype": "text/x-python",
   "name": "python",
   "nbconvert_exporter": "python",
   "pygments_lexer": "ipython2",
   "version": "2.7.11"
  }
 },
 "nbformat": 4,
 "nbformat_minor": 0
}
